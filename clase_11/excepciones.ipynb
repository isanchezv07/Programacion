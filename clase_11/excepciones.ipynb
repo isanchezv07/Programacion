{
 "cells": [
  {
   "cell_type": "code",
   "execution_count": 2,
   "metadata": {},
   "outputs": [
    {
     "name": "stdout",
     "output_type": "stream",
     "text": [
      "Debes introducir un número entero\n",
      "Programa finalizado\n"
     ]
    }
   ],
   "source": [
    "try: \n",
    "    edad = int(input(\"Introduce tu edad: \"))\n",
    "except ValueError:\n",
    "    print(\"Debes introducir un número entero\")\n",
    "else: \n",
    "    print(\"Tu edad es: \", edad)\n",
    "finally:\n",
    "    print(\"Programa finalizado\")"
   ]
  },
  {
   "cell_type": "code",
   "execution_count": 5,
   "metadata": {},
   "outputs": [
    {
     "name": "stdout",
     "output_type": "stream",
     "text": [
      "La división es:  2.5\n",
      "Programa finalizado\n"
     ]
    }
   ],
   "source": [
    "try: \n",
    "    numerador = int(input(\"Introduce el numerador: \"))\n",
    "    denominador = int(input(\"Introduce el denominador: \"))\n",
    "    division = numerador / denominador\n",
    "except ZeroDivisionError:\n",
    "    print(\"No se puede dividir por cero\")\n",
    "else:\n",
    "    print(\"La división es: \", division)\n",
    "finally:\n",
    "    print(\"Programa finalizado\")"
   ]
  }
 ],
 "metadata": {
  "kernelspec": {
   "display_name": "Python 3",
   "language": "python",
   "name": "python3"
  },
  "language_info": {
   "codemirror_mode": {
    "name": "ipython",
    "version": 3
   },
   "file_extension": ".py",
   "mimetype": "text/x-python",
   "name": "python",
   "nbconvert_exporter": "python",
   "pygments_lexer": "ipython3",
   "version": "3.9.6"
  }
 },
 "nbformat": 4,
 "nbformat_minor": 2
}
