{
 "cells": [
  {
   "cell_type": "code",
   "execution_count": 2,
   "metadata": {},
   "outputs": [
    {
     "name": "stdout",
     "output_type": "stream",
     "text": [
      "[[0, 0, 0, 0], [0, 0, 0, 0], [0, 0, 0, 0]]\n"
     ]
    }
   ],
   "source": [
    "matriz_vacia = []\n",
    "matriz_vacia = list()\n",
    "matriz = [\n",
    "    [1, 2, 3],\n",
    "    [4, 5, 6],\n",
    "    [7, 8, 9]\n",
    "]\n",
    "filas, columnas = 3, 4\n",
    "matriz_ceros = [[0]* columnas for _ in range(filas)]\n",
    "print(matriz_ceros)"
   ]
  },
  {
   "cell_type": "code",
   "execution_count": 4,
   "metadata": {},
   "outputs": [
    {
     "name": "stdout",
     "output_type": "stream",
     "text": [
      "20\n",
      "70\n",
      "[[10, 20, 30], [40, 50, 99], [70, 80, 90]]\n"
     ]
    }
   ],
   "source": [
    "matriz = [\n",
    "    [10, 20, 30],\n",
    "    [40, 50, 60],\n",
    "    [70, 80, 90]\n",
    "]\n",
    "\n",
    "print(matriz[0][1])  \n",
    "print(matriz[2][0])  \n",
    "\n",
    "matriz[1][2] = 99\n",
    "print(matriz) "
   ]
  },
  {
   "cell_type": "code",
   "execution_count": 7,
   "metadata": {},
   "outputs": [
    {
     "name": "stdout",
     "output_type": "stream",
     "text": [
      "[[1, 2], [3, 4], [5, 6]]\n",
      "[[1, 2], [3, 4]]\n"
     ]
    }
   ],
   "source": [
    "matriz = [[1,2], [3,4]]\n",
    "matriz.append([5,6])\n",
    "print(matriz)\n",
    "matriz.pop()\n",
    "print(matriz)"
   ]
  },
  {
   "cell_type": "code",
   "execution_count": 9,
   "metadata": {},
   "outputs": [
    {
     "name": "stdout",
     "output_type": "stream",
     "text": [
      "1 2 3 \n",
      "4 5 6 \n",
      "7 8 9 \n",
      "Elemento en [0][0] = 1\n",
      "Elemento en [0][1] = 2\n",
      "Elemento en [0][2] = 3\n",
      "Elemento en [1][0] = 4\n",
      "Elemento en [1][1] = 5\n",
      "Elemento en [1][2] = 6\n",
      "Elemento en [2][0] = 7\n",
      "Elemento en [2][1] = 8\n",
      "Elemento en [2][2] = 9\n"
     ]
    }
   ],
   "source": [
    "matriz = [\n",
    "    [1, 2, 3],\n",
    "    [4, 5, 6],\n",
    "    [7, 8, 9]\n",
    "]\n",
    "\n",
    "for fila in matriz:\n",
    "    for elemento in fila:\n",
    "        print(elemento, end=\" \")\n",
    "    print()\n",
    "\n",
    "for i in range(len(matriz)):\n",
    "    for j in range(len(matriz[i])):\n",
    "        print(f\"Elemento en [{i}][{j}] = {matriz[i][j]}\")"
   ]
  },
  {
   "cell_type": "code",
   "execution_count": 10,
   "metadata": {},
   "outputs": [
    {
     "name": "stdout",
     "output_type": "stream",
     "text": [
      "[[1, 2, 3], [4, 5, 6], [7, 8, 9]]\n"
     ]
    }
   ],
   "source": [
    "matriz = [\n",
    "    [3, 1, 2],\n",
    "    [6, 5, 4],\n",
    "    [9, 8, 7]\n",
    "]\n",
    "\n",
    "for fila in matriz:\n",
    "    fila.sort()\n",
    "\n",
    "print(matriz)  "
   ]
  },
  {
   "cell_type": "code",
   "execution_count": null,
   "metadata": {},
   "outputs": [],
   "source": [
    "matriz = [\n",
    "    [10, 20, 30, 40],\n",
    "    [50, 60, 70, 80],\n",
    "    [90, 100, 110, 120]\n",
    "]\n",
    "\n",
    "submatriz = [fila[1:3] for fila in matriz[1:3]]\n",
    "print(submatriz)  "
   ]
  }
 ],
 "metadata": {
  "kernelspec": {
   "display_name": "Python 3",
   "language": "python",
   "name": "python3"
  },
  "language_info": {
   "codemirror_mode": {
    "name": "ipython",
    "version": 3
   },
   "file_extension": ".py",
   "mimetype": "text/x-python",
   "name": "python",
   "nbconvert_exporter": "python",
   "pygments_lexer": "ipython3",
   "version": "3.9.6"
  }
 },
 "nbformat": 4,
 "nbformat_minor": 2
}
