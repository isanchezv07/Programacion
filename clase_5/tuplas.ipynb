{
 "cells": [
  {
   "cell_type": "code",
   "execution_count": 1,
   "metadata": {},
   "outputs": [],
   "source": [
    "tupla_vacia = ()\n",
    "tupla_vacia = tuple()\n",
    "numeros = (1, 2, 3, 4, 5)\n",
    "elementos = (1, 'a', 2.5, 'hola')"
   ]
  },
  {
   "cell_type": "code",
   "execution_count": 2,
   "metadata": {},
   "outputs": [
    {
     "name": "stdout",
     "output_type": "stream",
     "text": [
      "10\n",
      "30\n"
     ]
    }
   ],
   "source": [
    "numeros = (10, 20, 30, 40, 50)\n",
    "print(numeros[0])\n",
    "print(numeros[2])"
   ]
  },
  {
   "cell_type": "code",
   "execution_count": 3,
   "metadata": {},
   "outputs": [
    {
     "name": "stdout",
     "output_type": "stream",
     "text": [
      "3\n"
     ]
    }
   ],
   "source": [
    "elementos = (1, 2, 2, 3, 4, 2)\n",
    "cuenta = elementos.count(2)\n",
    "print(cuenta)"
   ]
  },
  {
   "cell_type": "code",
   "execution_count": 4,
   "metadata": {},
   "outputs": [
    {
     "name": "stdout",
     "output_type": "stream",
     "text": [
      "2\n"
     ]
    }
   ],
   "source": [
    "elementos = (1, 2, 3, 4, 5)\n",
    "cuenta = elementos.index(3)\n",
    "print(cuenta)"
   ]
  },
  {
   "cell_type": "code",
   "execution_count": 5,
   "metadata": {},
   "outputs": [
    {
     "name": "stdout",
     "output_type": "stream",
     "text": [
      "(30, 40, 50, 60, 70)\n"
     ]
    }
   ],
   "source": [
    "numeros = (10, 20, 30, 40, 50, 60, 70, 80, 90)\n",
    "subtupla = numeros[2:7]\n",
    "print(subtupla)"
   ]
  },
  {
   "cell_type": "code",
   "execution_count": 6,
   "metadata": {},
   "outputs": [
    {
     "name": "stdout",
     "output_type": "stream",
     "text": [
      "9\n"
     ]
    }
   ],
   "source": [
    "numeros = (10, 20, 30, 40, 50, 60, 70, 80, 90)\n",
    "longitud = len(numeros)\n",
    "print(longitud)"
   ]
  },
  {
   "cell_type": "code",
   "execution_count": 7,
   "metadata": {},
   "outputs": [],
   "source": [
    "conjunto_vacio = set()\n",
    "numeros = {1, 2, 3, 4, 5}\n",
    "elementos = {1, 'a', 2.5, 'hola'}\n",
    "duplicados = {1, 2, 2, 3, 4, 2}"
   ]
  },
  {
   "cell_type": "code",
   "execution_count": 11,
   "metadata": {},
   "outputs": [
    {
     "name": "stdout",
     "output_type": "stream",
     "text": [
      "{'mandarina', 'naranja', 'uva', 'manzana'}\n"
     ]
    }
   ],
   "source": [
    "frutas = {'manzana', 'pera', 'naranja', 'mandarina'}\n",
    "frutas.add('uva')\n",
    "frutas.remove('pera')\n",
    "print(frutas)"
   ]
  },
  {
   "cell_type": "code",
   "execution_count": 12,
   "metadata": {},
   "outputs": [
    {
     "name": "stdout",
     "output_type": "stream",
     "text": [
      "mandarina\n",
      "pera\n",
      "naranja\n",
      "manzana\n"
     ]
    }
   ],
   "source": [
    "frutas = {'manzana', 'pera', 'naranja', 'mandarina'}\n",
    "for fruta in frutas:\n",
    "    print(fruta)"
   ]
  },
  {
   "cell_type": "code",
   "execution_count": 13,
   "metadata": {},
   "outputs": [
    {
     "name": "stdout",
     "output_type": "stream",
     "text": [
      "{1, 2, 3, 4, 5}\n",
      "{3}\n"
     ]
    }
   ],
   "source": [
    "a = {1, 2, 3}\n",
    "b = {3, 4, 5}\n",
    "union = a.union(b)\n",
    "interseccion = a.intersection(b)\n",
    "print(union)\n",
    "print(interseccion)"
   ]
  },
  {
   "cell_type": "code",
   "execution_count": 14,
   "metadata": {},
   "outputs": [
    {
     "name": "stdout",
     "output_type": "stream",
     "text": [
      "Encontrado\n"
     ]
    }
   ],
   "source": [
    "nombres = [\"Juan\", \"Ana\", \"Pedro\", \"María\"]\n",
    "for nombre in nombres:\n",
    "    if nombre == 'Pedro':\n",
    "        print('Encontrado')\n",
    "        break"
   ]
  }
 ],
 "metadata": {
  "kernelspec": {
   "display_name": "Python 3",
   "language": "python",
   "name": "python3"
  },
  "language_info": {
   "codemirror_mode": {
    "name": "ipython",
    "version": 3
   },
   "file_extension": ".py",
   "mimetype": "text/x-python",
   "name": "python",
   "nbconvert_exporter": "python",
   "pygments_lexer": "ipython3",
   "version": "3.9.6"
  }
 },
 "nbformat": 4,
 "nbformat_minor": 2
}
