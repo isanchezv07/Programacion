{
 "cells": [
  {
   "cell_type": "code",
   "execution_count": null,
   "metadata": {},
   "outputs": [],
   "source": [
    "matriz = {\n",
    "    0: {0: 10, 1: 20, 2: 30},\n",
    "    1: {0: 40, 1: 50, 2: 60},\n",
    "    2: {0: 70, 1: 80, 2: 90}\n",
    "}\n",
    "\n",
    "matriz = {}"
   ]
  }
 ],
 "metadata": {
  "kernelspec": {
   "display_name": "Python 3",
   "language": "python",
   "name": "python3"
  },
  "language_info": {
   "name": "python",
   "version": "3.13.1"
  }
 },
 "nbformat": 4,
 "nbformat_minor": 2
}
