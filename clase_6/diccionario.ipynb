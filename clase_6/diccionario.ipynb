{
 "cells": [
  {
   "cell_type": "code",
   "execution_count": 7,
   "metadata": {},
   "outputs": [
    {
     "name": "stdout",
     "output_type": "stream",
     "text": [
      "{'nombre': 'Pepe', 'edad': 23, 'ciudad': 'Madrid'}\n"
     ]
    }
   ],
   "source": [
    "diccionario_vacio = {}\n",
    "diccionario_vacio = dict()\n",
    "diccionario_vacio = {'nombre': 'Pepe', 'edad': 23, 'ciudad': 'Madrid'}\n",
    "print(diccionario_vacio)"
   ]
  },
  {
   "cell_type": "code",
   "execution_count": 6,
   "metadata": {},
   "outputs": [
    {
     "name": "stdout",
     "output_type": "stream",
     "text": [
      "Pepe\n",
      "23\n",
      "Madrid\n"
     ]
    }
   ],
   "source": [
    "print(diccionario_vacio['nombre'])\n",
    "print(diccionario_vacio['edad'])\n",
    "print(diccionario_vacio['ciudad'])"
   ]
  },
  {
   "cell_type": "code",
   "execution_count": 8,
   "metadata": {},
   "outputs": [
    {
     "name": "stdout",
     "output_type": "stream",
     "text": [
      "Pepe\n",
      "No existe\n"
     ]
    }
   ],
   "source": [
    "persona = {'nombre': 'Pepe', 'edad': 23}\n",
    "print(persona.get('nombre', 'No existe'))\n",
    "print(persona.get('profesion', 'No existe'))"
   ]
  },
  {
   "cell_type": "code",
   "execution_count": 1,
   "metadata": {},
   "outputs": [
    {
     "name": "stdout",
     "output_type": "stream",
     "text": [
      "{'nombre': 'Pepe', 'edad': 24, 'profesion': 'programador'}\n"
     ]
    }
   ],
   "source": [
    "persona = {'nombre': 'Pepe', 'edad': 23}\n",
    "persona.update({'edad': 24, 'profesion': 'programador'})\n",
    "print(persona)"
   ]
  },
  {
   "cell_type": "code",
   "execution_count": 2,
   "metadata": {},
   "outputs": [
    {
     "name": "stdout",
     "output_type": "stream",
     "text": [
      "23\n",
      "{'nombre': 'Pepe'}\n"
     ]
    }
   ],
   "source": [
    "persona = {'nombre': 'Pepe', 'edad': 23}\n",
    "edad = persona.pop('edad')\n",
    "print(edad)\n",
    "print(persona)"
   ]
  },
  {
   "cell_type": "code",
   "execution_count": 3,
   "metadata": {},
   "outputs": [
    {
     "name": "stdout",
     "output_type": "stream",
     "text": [
      "nombre: Pepe\n",
      "edad: 23\n",
      "ciudad: Madrid\n"
     ]
    }
   ],
   "source": [
    "datos = {'nombre': 'Pepe', 'edad': 23, 'ciudad': 'Madrid'}\n",
    "for clave, valor in datos.items():\n",
    "    print(f'{clave}: {valor}')"
   ]
  },
  {
   "cell_type": "code",
   "execution_count": 4,
   "metadata": {},
   "outputs": [
    {
     "name": "stdout",
     "output_type": "stream",
     "text": [
      "{0: 0, 1: 1, 2: 4, 3: 9, 4: 16, 5: 25}\n"
     ]
    }
   ],
   "source": [
    "cuadrados = {x: x**2 for x in range(6)}\n",
    "print(cuadrados)"
   ]
  }
 ],
 "metadata": {
  "kernelspec": {
   "display_name": "Python 3",
   "language": "python",
   "name": "python3"
  },
  "language_info": {
   "codemirror_mode": {
    "name": "ipython",
    "version": 3
   },
   "file_extension": ".py",
   "mimetype": "text/x-python",
   "name": "python",
   "nbconvert_exporter": "python",
   "pygments_lexer": "ipython3",
   "version": "3.9.6"
  }
 },
 "nbformat": 4,
 "nbformat_minor": 2
}
