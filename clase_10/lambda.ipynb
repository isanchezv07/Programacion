{
 "cells": [
  {
   "cell_type": "code",
   "execution_count": null,
   "metadata": {},
   "outputs": [],
   "source": [
    "lambda argumentos: expresion"
   ]
  },
  {
   "cell_type": "code",
   "execution_count": 1,
   "metadata": {},
   "outputs": [
    {
     "name": "stdout",
     "output_type": "stream",
     "text": [
      "8\n"
     ]
    }
   ],
   "source": [
    "print((lambda x, y: x + y)(5,3))"
   ]
  },
  {
   "cell_type": "code",
   "execution_count": 3,
   "metadata": {},
   "outputs": [
    {
     "name": "stdout",
     "output_type": "stream",
     "text": [
      "Impar\n",
      "Par\n"
     ]
    }
   ],
   "source": [
    "par_o_impar = lambda x: \"Par\" if x % 2 == 0 else \"Impar\"\n",
    "print(par_o_impar(5))\n",
    "print(par_o_impar(4))"
   ]
  },
  {
   "cell_type": "code",
   "execution_count": null,
   "metadata": {},
   "outputs": [],
   "source": [
    "\n",
    "tiempos = [2, 1.5, 2.5, 3, 1, 4, 2.5]\n",
    "\n",
    "def tiempo_promedio(tiempos):\n",
    "    return sum(tiempos) / len(tiempos) if tiempos else 0\n",
    "\n",
    "promedio_horas = tiempo_promedio(tiempos)\n",
    "print(f\"El tiempo promedio diario en redes sociales es de {promedio_horas:.2f} horas.\")\n",
    "\n",
    "horas_a_minutos = lambda horas: horas * 60\n",
    "\n",
    "promedio_minutos = horas_a_minutos(promedio_horas)\n",
    "print(f\"El tiempo promedio diario en redes sociales es de {promedio_minutos:.2f} minutos por día.\")"
   ]
  }
 ],
 "metadata": {
  "kernelspec": {
   "display_name": "Python 3",
   "language": "python",
   "name": "python3"
  },
  "language_info": {
   "codemirror_mode": {
    "name": "ipython",
    "version": 3
   },
   "file_extension": ".py",
   "mimetype": "text/x-python",
   "name": "python",
   "nbconvert_exporter": "python",
   "pygments_lexer": "ipython3",
   "version": "3.9.6"
  }
 },
 "nbformat": 4,
 "nbformat_minor": 2
}
