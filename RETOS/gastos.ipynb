{
 "cells": [
  {
   "cell_type": "code",
   "execution_count": 2,
   "metadata": {},
   "outputs": [
    {
     "name": "stdout",
     "output_type": "stream",
     "text": [
      "Defaulting to user installation because normal site-packages is not writeable\n",
      "Collecting pandas\n",
      "  Downloading pandas-2.2.3-cp39-cp39-macosx_11_0_arm64.whl (11.3 MB)\n",
      "\u001b[K     |████████████████████████████████| 11.3 MB 1.3 MB/s eta 0:00:01\n",
      "\u001b[?25hRequirement already satisfied: python-dateutil>=2.8.2 in /Users/isacsanchez/Library/Python/3.9/lib/python/site-packages (from pandas) (2.9.0.post0)\n",
      "Collecting numpy>=1.22.4\n",
      "  Downloading numpy-2.0.2-cp39-cp39-macosx_14_0_arm64.whl (5.3 MB)\n",
      "\u001b[K     |████████████████████████████████| 5.3 MB 18.5 MB/s eta 0:00:01\n",
      "\u001b[?25hCollecting tzdata>=2022.7\n",
      "  Downloading tzdata-2025.1-py2.py3-none-any.whl (346 kB)\n",
      "\u001b[K     |████████████████████████████████| 346 kB 47.8 MB/s eta 0:00:01\n",
      "\u001b[?25hCollecting pytz>=2020.1\n",
      "  Downloading pytz-2025.1-py2.py3-none-any.whl (507 kB)\n",
      "\u001b[K     |████████████████████████████████| 507 kB 69.7 MB/s eta 0:00:01\n",
      "\u001b[?25hRequirement already satisfied: six>=1.5 in /Library/Developer/CommandLineTools/Library/Frameworks/Python3.framework/Versions/3.9/lib/python3.9/site-packages (from python-dateutil>=2.8.2->pandas) (1.15.0)\n",
      "Installing collected packages: tzdata, pytz, numpy, pandas\n",
      "Successfully installed numpy-2.0.2 pandas-2.2.3 pytz-2025.1 tzdata-2025.1\n",
      "\u001b[33mWARNING: You are using pip version 21.2.4; however, version 25.0.1 is available.\n",
      "You should consider upgrading via the '/Library/Developer/CommandLineTools/usr/bin/python3 -m pip install --upgrade pip' command.\u001b[0m\n"
     ]
    }
   ],
   "source": [
    "!pip3 install pandas"
   ]
  },
  {
   "cell_type": "code",
   "execution_count": 3,
   "metadata": {},
   "outputs": [
    {
     "name": "stdout",
     "output_type": "stream",
     "text": [
      "Tamaño de la serie: 8\n",
      "Tipo de dato de la serie: int64\n",
      "Divisiones incluidas en la serie: ['Marketing', 'Ventas', 'Desarrollo de Producto', 'Soporte Técnico', 'Recursos Humanos', 'IT', 'Operaciones', 'Investigación y Desarrollo']\n",
      "\n",
      "Gastos de Ventas, IT e Investigación y Desarrollo:\n",
      "Ventas                        45000\n",
      "IT                            50000\n",
      "Investigación y Desarrollo    55000\n",
      "dtype: int64\n",
      "\n",
      "Gastos desde Marketing hasta Recursos Humanos:\n",
      "Marketing                 32000\n",
      "Ventas                    45000\n",
      "Desarrollo de Producto    62000\n",
      "Soporte Técnico           25000\n",
      "Recursos Humanos          15000\n",
      "dtype: int64\n",
      "\n",
      "Gastos desde Desarrollo de Producto hasta Operaciones:\n",
      "Desarrollo de Producto    62000\n",
      "Soporte Técnico           25000\n",
      "Recursos Humanos          15000\n",
      "IT                        50000\n",
      "Operaciones               47000\n",
      "dtype: int64\n",
      "\n",
      "Gastos desde Soporte Técnico hasta la última división:\n",
      "Soporte Técnico               25000\n",
      "Recursos Humanos              15000\n",
      "IT                            50000\n",
      "Operaciones                   47000\n",
      "Investigación y Desarrollo    55000\n",
      "dtype: int64\n",
      "\n",
      "Gasto total de la empresa: 331000\n",
      "Gasto promedio de las divisiones: 41375.0\n",
      "División con el gasto más alto: Desarrollo de Producto\n",
      "División con el gasto más bajo: Recursos Humanos\n"
     ]
    }
   ],
   "source": [
    "import pandas as pd\n",
    "\n",
    "datos = {\n",
    "    \"Marketing\": 32000, \n",
    "    \"Ventas\": 45000, \n",
    "    \"Desarrollo de Producto\": 62000, \n",
    "    \"Soporte Técnico\": 25000, \n",
    "    \"Recursos Humanos\": 15000, \n",
    "    \"IT\": 50000,\n",
    "    \"Operaciones\": 47000,\n",
    "    \"Investigación y Desarrollo\": 55000\n",
    "}\n",
    "\n",
    "gastos_mensuales = pd.Series(datos)\n",
    "\n",
    "print(\"Tamaño de la serie:\", gastos_mensuales.size)\n",
    "print(\"Tipo de dato de la serie:\", gastos_mensuales.dtype)\n",
    "print(\"Divisiones incluidas en la serie:\", gastos_mensuales.index.tolist())\n",
    "\n",
    "print(\"\\nGastos de Ventas, IT e Investigación y Desarrollo:\")\n",
    "print(gastos_mensuales[[\"Ventas\", \"IT\", \"Investigación y Desarrollo\"]])\n",
    "\n",
    "print(\"\\nGastos desde Marketing hasta Recursos Humanos:\")\n",
    "print(gastos_mensuales[\"Marketing\":\"Recursos Humanos\"])\n",
    "\n",
    "print(\"\\nGastos desde Desarrollo de Producto hasta Operaciones:\")\n",
    "print(gastos_mensuales[\"Desarrollo de Producto\":\"Operaciones\"])\n",
    "\n",
    "print(\"\\nGastos desde Soporte Técnico hasta la última división:\")\n",
    "print(gastos_mensuales[\"Soporte Técnico\":])\n",
    "\n",
    "gasto_total = gastos_mensuales.sum()\n",
    "gasto_promedio = gastos_mensuales.mean()\n",
    "division_max_gasto = gastos_mensuales.idxmax()\n",
    "division_min_gasto = gastos_mensuales.idxmin()\n",
    "\n",
    "print(\"\\nGasto total de la empresa:\", gasto_total)\n",
    "print(\"Gasto promedio de las divisiones:\", gasto_promedio)\n",
    "print(\"División con el gasto más alto:\", division_max_gasto)\n",
    "print(\"División con el gasto más bajo:\", division_min_gasto)"
   ]
  }
 ],
 "metadata": {
  "kernelspec": {
   "display_name": "Python 3",
   "language": "python",
   "name": "python3"
  },
  "language_info": {
   "codemirror_mode": {
    "name": "ipython",
    "version": 3
   },
   "file_extension": ".py",
   "mimetype": "text/x-python",
   "name": "python",
   "nbconvert_exporter": "python",
   "pygments_lexer": "ipython3",
   "version": "3.9.6"
  }
 },
 "nbformat": 4,
 "nbformat_minor": 2
}
