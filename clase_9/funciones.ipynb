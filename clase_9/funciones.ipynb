{
 "cells": [
  {
   "cell_type": "code",
   "execution_count": 1,
   "metadata": {},
   "outputs": [
    {
     "name": "stdout",
     "output_type": "stream",
     "text": [
      "Hola, soy una función\n"
     ]
    }
   ],
   "source": [
    "def saludo ():\n",
    "    print(\"Hola, soy una función\")\n",
    "\n",
    "saludo()"
   ]
  },
  {
   "cell_type": "code",
   "execution_count": 2,
   "metadata": {},
   "outputs": [
    {
     "name": "stdout",
     "output_type": "stream",
     "text": [
      "8\n"
     ]
    }
   ],
   "source": [
    "def suma(a,b):\n",
    "    return a+b\n",
    "\n",
    "print(suma(5,3))"
   ]
  },
  {
   "cell_type": "code",
   "execution_count": 3,
   "metadata": {},
   "outputs": [
    {
     "name": "stdout",
     "output_type": "stream",
     "text": [
      "1\n",
      "2\n",
      "3\n",
      "4\n",
      "5\n"
     ]
    }
   ],
   "source": [
    "def lista_argumentos(*args):\n",
    "    for arg in args:\n",
    "        print(arg)\n",
    "\n",
    "lista_argumentos(1,2,3,4,5)"
   ]
  },
  {
   "cell_type": "code",
   "execution_count": null,
   "metadata": {},
   "outputs": [],
   "source": [
    "def lista_kwargs(**kwargs):\n",
    "    for clave, valor in kwargs.items():\n",
    "        print(f\"{clave} -> {valor}\")\n",
    "\n",
    "lista_kwargs(nombre=\"Juan\",edad=25,ciudad=\"CDMX\")"
   ]
  }
 ],
 "metadata": {
  "kernelspec": {
   "display_name": "Python 3",
   "language": "python",
   "name": "python3"
  },
  "language_info": {
   "codemirror_mode": {
    "name": "ipython",
    "version": 3
   },
   "file_extension": ".py",
   "mimetype": "text/x-python",
   "name": "python",
   "nbconvert_exporter": "python",
   "pygments_lexer": "ipython3",
   "version": "3.9.6"
  }
 },
 "nbformat": 4,
 "nbformat_minor": 2
}
