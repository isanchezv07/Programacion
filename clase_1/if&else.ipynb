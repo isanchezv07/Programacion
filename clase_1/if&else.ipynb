{
 "cells": [
  {
   "cell_type": "code",
   "execution_count": 1,
   "metadata": {},
   "outputs": [
    {
     "name": "stdout",
     "output_type": "stream",
     "text": [
      "Eres mayor de edad\n"
     ]
    }
   ],
   "source": [
    "# ***** IF CON ENTERO *****\n",
    "edad = 20 \n",
    "if edad >= 18:\n",
    "    print(\"Eres mayor de edad\")"
   ]
  },
  {
   "cell_type": "code",
   "execution_count": 2,
   "metadata": {},
   "outputs": [
    {
     "name": "stdout",
     "output_type": "stream",
     "text": [
      "La cadena no esta vacia.\n"
     ]
    }
   ],
   "source": [
    "# ***** IF CON CADENA *****\n",
    "cadena = \"Hola Mundo\"\n",
    "if cadena:  \n",
    "    print(\"La cadena no esta vacia.\")"
   ]
  },
  {
   "cell_type": "code",
   "execution_count": 3,
   "metadata": {},
   "outputs": [
    {
     "name": "stdout",
     "output_type": "stream",
     "text": [
      "El numero es par.\n"
     ]
    }
   ],
   "source": [
    "# ***** IF CON LISTA *****\n",
    "numero = 4 \n",
    "if numero % 2 == 0:\n",
    "    print(\"El numero es par.\")"
   ]
  },
  {
   "cell_type": "code",
   "execution_count": 1,
   "metadata": {},
   "outputs": [
    {
     "name": "stdout",
     "output_type": "stream",
     "text": [
      "El numero es positivo.\n"
     ]
    }
   ],
   "source": [
    "# ***** IF CON CONDICION *****\n",
    "numero = 5\n",
    "if numero > 0:\n",
    "    print(\"El numero es positivo.\")\n",
    "else:\n",
    "    print(\"El numero es negativo.\")"
   ]
  },
  {
   "cell_type": "code",
   "execution_count": 2,
   "metadata": {},
   "outputs": [
    {
     "name": "stdout",
     "output_type": "stream",
     "text": [
      "Recuperacion\n"
     ]
    }
   ],
   "source": [
    "# ***** IF ANIDADOS *****\n",
    "nota = 68\n",
    "if nota >= 60:\n",
    "    if nota >= 70:\n",
    "        print(\"Aprobado\")\n",
    "    else:\n",
    "        print(\"Recuperacion\")\n",
    "else:\n",
    "    print(\"Reprobado\")"
   ]
  },
  {
   "cell_type": "code",
   "execution_count": 3,
   "metadata": {},
   "outputs": [
    {
     "name": "stdout",
     "output_type": "stream",
     "text": [
      "Mayor de edad\n"
     ]
    }
   ],
   "source": [
    "# ***** OPERADOR TERNARIO *****\n",
    "edad = 20\n",
    "resultado = \"Mayor de edad\" if edad >= 18 else \"Menor de edad\"\n",
    "print(resultado)"
   ]
  }
 ],
 "metadata": {
  "kernelspec": {
   "display_name": "Python 3",
   "language": "python",
   "name": "python3"
  },
  "language_info": {
   "codemirror_mode": {
    "name": "ipython",
    "version": 3
   },
   "file_extension": ".py",
   "mimetype": "text/x-python",
   "name": "python",
   "nbconvert_exporter": "python",
   "pygments_lexer": "ipython3",
   "version": "3.9.6"
  }
 },
 "nbformat": 4,
 "nbformat_minor": 2
}
