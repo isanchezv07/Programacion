{
 "cells": [
  {
   "cell_type": "code",
   "execution_count": 12,
   "metadata": {},
   "outputs": [
    {
     "name": "stdout",
     "output_type": "stream",
     "text": [
      "Buscando en el pasillo 1...\n",
      "Buscando en el pasillo 2...\n",
      "Buscando en el pasillo 3...\n",
      "Buscando en el pasillo 4...\n",
      "Buscando en el pasillo 5...\n",
      "Buscando en el pasillo 6...\n",
      "Buscando en el pasillo 7...\n",
      "Artículo encontrado en el pasillo: 8\n",
      "Número de intentos: 7\n"
     ]
    }
   ],
   "source": [
    "# Property of: isanchezv07\n",
    "# ****** IMPORTAMOS LA LIBRERÍA RANDOM ******\n",
    "import random\n",
    "\n",
    "# ****** DEFINIMOS EL NUMERO DE PASILLOS ******\n",
    "total_pasillos = 10\n",
    "# ***** INICIALIZAMOS EL CONTADOR DE INTENTOS ******\n",
    "intentos = 0 \n",
    "\n",
    "# ****** DEFINIMOS EL PASILLO RANDOM DONDE SE ENCUENTRA EL ARTÍCULO ******\n",
    "pasillo_articulo = random.randint(1, total_pasillos)\n",
    "\n",
    "# ***** HACEMOS EL BUCLE PARA BUSCAR EL ARTÍCULO ******\n",
    "for pasillo in range(1, total_pasillos):\n",
    "    # ***** SI EL PASILLO ES IGUAL AL PASILLO DONDE SE ENCUENTRA EL ARTÍCULO, ENTONCES LO HEMOS ENCONTRADO ******\n",
    "    if pasillo == pasillo_articulo:\n",
    "        print(f'Artículo encontrado en el pasillo: {pasillo}')\n",
    "        print(f'Número de intentos: {intentos}')\n",
    "        break\n",
    "    # ***** SI NO, SEGUIREMOS BUSCANDO ******\n",
    "    else:\n",
    "        print(f'Buscando en el pasillo {pasillo}...')\n",
    "        # ***** AUMENTAMOS EL CONTADOR DE INTENTOS CADA VEZ QUE BUSCA ******\n",
    "        intentos += 1"
   ]
  }
 ],
 "metadata": {
  "kernelspec": {
   "display_name": "Python 3",
   "language": "python",
   "name": "python3"
  },
  "language_info": {
   "codemirror_mode": {
    "name": "ipython",
    "version": 3
   },
   "file_extension": ".py",
   "mimetype": "text/x-python",
   "name": "python",
   "nbconvert_exporter": "python",
   "pygments_lexer": "ipython3",
   "version": "3.9.6"
  }
 },
 "nbformat": 4,
 "nbformat_minor": 2
}
