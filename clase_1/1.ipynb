{
 "cells": [
  {
   "cell_type": "code",
   "execution_count": 1,
   "metadata": {},
   "outputs": [
    {
     "name": "stdout",
     "output_type": "stream",
     "text": [
      "Buscando en el pasillo 1...\n",
      "Buscando en el pasillo 2...\n",
      "Buscando en el pasillo 3...\n",
      "Buscando en el pasillo 4...\n",
      "Buscando en el pasillo 5...\n",
      "Buscando en el pasillo 6...\n",
      "Buscando en el pasillo 7...\n",
      "Buscando en el pasillo 8...\n",
      "Artículo encontrado en el pasillo 9\n"
     ]
    }
   ],
   "source": [
    "import random\n",
    "\n",
    "# Definir el número total de pasillos\n",
    "total_pasillos = 10\n",
    "\n",
    "# Seleccionar un pasillo al azar donde se encuentra el artículo\n",
    "pasillo_articulo = random.randint(1, total_pasillos)\n",
    "\n",
    "# Simular la búsqueda del artículo pasillo por pasillo\n",
    "for pasillo in range(1, total_pasillos):\n",
    "    if pasillo == pasillo_articulo:\n",
    "        print(f'Artículo encontrado en el pasillo {pasillo}')\n",
    "        break\n",
    "    else:\n",
    "        print(f'Buscando en el pasillo {pasillo}...')"
   ]
  }
 ],
 "metadata": {
  "kernelspec": {
   "display_name": "Python 3",
   "language": "python",
   "name": "python3"
  },
  "language_info": {
   "codemirror_mode": {
    "name": "ipython",
    "version": 3
   },
   "file_extension": ".py",
   "mimetype": "text/x-python",
   "name": "python",
   "nbconvert_exporter": "python",
   "pygments_lexer": "ipython3",
   "version": "3.9.6"
  }
 },
 "nbformat": 4,
 "nbformat_minor": 2
}
